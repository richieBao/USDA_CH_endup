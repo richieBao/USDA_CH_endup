{
 "cells": [
  {
   "cell_type": "code",
   "execution_count": 3,
   "id": "0396879a-d69d-471d-accf-d5445ed20c59",
   "metadata": {},
   "outputs": [
    {
     "name": "stdout",
     "output_type": "stream",
     "text": [
      "NDVI_min:0.000000,max:15.654902\n",
      "NDVI_min:-9999.000000,max:8483.000000\n",
      "NDVI_min:0.000000,max:15.768559\n"
     ]
    }
   ],
   "source": [
    "import util_A\n",
    "import rasterio as rio\n",
    "import os\n",
    "workspace=r\"G:\\data\\Landsat\\data_processed\"\n",
    "w_180310=rio.open(os.path.join(workspace,r\"w_180310_stack.tif\"))\n",
    "s_190820=rio.open(os.path.join(workspace,r\"s_190820_stack.tif\"))\n",
    "a_191018=rio.open(os.path.join(workspace,r\"a_191018_stack.tif\"))\n",
    "\n",
    "w_180310_NDVI=util_A.NDVI(w_180310.read(4),w_180310.read(5))\n",
    "s_190820_NDVI=util_A.NDVI(s_190820.read(4),s_190820.read(5))\n",
    "a_191018_NDVI=util_A.NDVI(a_191018.read(4),a_191018.read(5))\n",
    "\n",
    "from skimage.transform import rescale, resize, downscale_local_mean\n",
    "\n",
    "w_180310_NDVI_rescaled=rescale(w_180310_NDVI, 0.1, anti_aliasing=False)\n",
    "s_190820_NDVI_rescaled=rescale(s_190820_NDVI, 0.1, anti_aliasing=False)\n",
    "a_191018_NDVI_rescaled=rescale(a_191018_NDVI, 0.1, anti_aliasing=False)"
   ]
  },
  {
   "cell_type": "code",
   "execution_count": null,
   "id": "7bb45b0c-b11c-47d3-b70d-a66022ca93e4",
   "metadata": {},
   "outputs": [],
   "source": []
  }
 ],
 "metadata": {
  "kernelspec": {
   "display_name": "Python 3 (ipykernel)",
   "language": "python",
   "name": "python3"
  },
  "language_info": {
   "codemirror_mode": {
    "name": "ipython",
    "version": 3
   },
   "file_extension": ".py",
   "mimetype": "text/x-python",
   "name": "python",
   "nbconvert_exporter": "python",
   "pygments_lexer": "ipython3",
   "version": "3.8.13"
  }
 },
 "nbformat": 4,
 "nbformat_minor": 5
}
