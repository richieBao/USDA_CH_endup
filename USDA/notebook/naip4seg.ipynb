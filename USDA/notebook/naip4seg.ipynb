{
 "cells": [
  {
   "cell_type": "code",
   "execution_count": 1,
   "id": "dbb6de78-c856-437c-b554-2b73ef2afe55",
   "metadata": {
    "tags": []
   },
   "outputs": [
    {
     "name": "stderr",
     "output_type": "stream",
     "text": [
      "C:\\ProgramData\\anaconda3\\envs\\torchgeo310\\lib\\site-packages\\tqdm\\auto.py:21: TqdmWarning: IProgress not found. Please update jupyter and ipywidgets. See https://ipywidgets.readthedocs.io/en/stable/user_install.html\n",
      "  from .autonotebook import tqdm as notebook_tqdm\n"
     ]
    }
   ],
   "source": [
    "%matplotlib inline\n",
    "%load_ext tensorboard\n",
    "\n",
    "import os\n",
    "from torchvision.transforms import Compose\n",
    "from torchgeo.datasets import RasterDataset\n",
    "\n",
    "from torchgeo.transforms import indices,AugmentationSequential\n",
    "import kornia.augmentation as K\n",
    "\n",
    "from torchgeo.samplers import RandomGeoSampler\n",
    "from torchgeo.datasets import stack_samples \n",
    "from torch.utils.data import DataLoader\n",
    "\n",
    "import matplotlib\n",
    "import numpy as np\n",
    "import matplotlib.pyplot as plt\n",
    "\n",
    "from torchgeo.datamodules import NAIPChesapeakeDataModule\n",
    "import torch\n",
    "from lightning.pytorch import Trainer\n",
    "from lightning.pytorch.callbacks import EarlyStopping, ModelCheckpoint\n",
    "from lightning.pytorch.loggers import TensorBoardLogger\n",
    "from torchgeo.trainers import SemanticSegmentationTask\n",
    "from os import path"
   ]
  },
  {
   "cell_type": "code",
   "execution_count": 3,
   "id": "0d5801e1-c178-403c-a80d-ec6c9b503026",
   "metadata": {
    "tags": []
   },
   "outputs": [],
   "source": [
    "root=r'E:\\data\\NAIP4seg_download'\n",
    "imagery_data=os.path.join(root, \"imagery\") # 存储NAIP航拍影像数据\n",
    "LC_data=os.path.join(root, \"LC\") # 存储NAIP土地覆盖分类数据\n",
    "data_dir=os.path.join(root, \"training\") # 存储模型训练过程和结果文件"
   ]
  },
  {
   "cell_type": "code",
   "execution_count": 2,
   "id": "c56c8cee-ad56-4649-82e9-8bb92f32762c",
   "metadata": {
    "tags": []
   },
   "outputs": [],
   "source": [
    "imagery_data=os.path.join(r'E:\\data\\NAIP4seg', \"imagery\") # 存储NAIP航拍影像数据\n",
    "LC_data=os.path.join(r'E:\\data\\NAIP4seg', \"LC\") # 存储NAIP土地覆盖分类数据\n",
    "data_dir=os.path.join(r'E:\\data\\NAIP4seg', \"training\") # 存储模型训练过程和结果文件"
   ]
  },
  {
   "cell_type": "code",
   "execution_count": 3,
   "id": "9d471cbd-d860-4163-bd16-4a9b2c072b05",
   "metadata": {
    "tags": []
   },
   "outputs": [],
   "source": [
    "# 迁移于TorchGeo库：torchgeo.datamodules.naip模块\n",
    "from typing import (\n",
    "    Any,\n",
    "    Dict,\n",
    "    Iterable,\n",
    "    Iterator,\n",
    "    List,\n",
    "    Optional,\n",
    "    Sequence,\n",
    "    Tuple,\n",
    "    Union,\n",
    "    cast,\n",
    "    overload,\n",
    ")\n",
    "\n",
    "def chesapeake_transform(sample: Dict[str, Any]) -> Dict[str, Any]:\n",
    "    \"\"\"Transform a single sample from the Chesapeake Dataset.\n",
    "\n",
    "    Args:\n",
    "        sample: Chesapeake mask dictionary\n",
    "\n",
    "    Returns:\n",
    "        preprocessed Chesapeake data\n",
    "    \"\"\"\n",
    "    sample[\"mask\"] = sample[\"mask\"].long()[0]\n",
    "\n",
    "    return sample\n",
    "\n",
    "def remove_bbox(sample: Dict[str, Any]) -> Dict[str, Any]:\n",
    "    \"\"\"Removes the bounding box property from a sample.\n",
    "\n",
    "    Args:\n",
    "        sample: dictionary with geographic metadata\n",
    "\n",
    "    Returns\n",
    "        sample without the bbox property\n",
    "    \"\"\"\n",
    "    del sample[\"bbox\"]\n",
    "    return sample\n",
    "\n",
    "chesapeak_transforms=Compose([chesapeake_transform,remove_bbox])\n",
    "\n",
    "class delaware_lc_rd(RasterDataset):\n",
    "    filename_glob=\"DE_STATEWIDE.tif\"\n",
    "    is_image=False\n",
    "\n",
    "chesapeake=delaware_lc_rd(LC_data,transforms=chesapeak_transforms) "
   ]
  },
  {
   "cell_type": "code",
   "execution_count": 4,
   "id": "91e75080-6d21-413a-93de-9e8d0836c8da",
   "metadata": {
    "tags": []
   },
   "outputs": [],
   "source": [
    "def naip_preprocess(sample: Dict[str, Any]) -> Dict[str, Any]:\n",
    "    \"\"\"Transform a single sample from the NAIP Dataset.\n",
    "\n",
    "    Args:\n",
    "        sample: NAIP image dictionary\n",
    "\n",
    "    Returns:\n",
    "        preprocessed NAIP data\n",
    "    \"\"\"\n",
    "    sample[\"image\"] = sample[\"image\"].float()\n",
    "    sample[\"image\"] /= 255.0\n",
    "\n",
    "    return sample\n",
    "\n",
    "class naip_rd(RasterDataset):\n",
    "    filename_glob = \"m_*.*\"\n",
    "    filename_regex = r\"\"\"\n",
    "        ^m\n",
    "        _(?P<quadrangle>\\d+)\n",
    "        _(?P<quarter_quad>[a-z]+)\n",
    "        _(?P<utm_zone>\\d+)\n",
    "        _(?P<resolution>\\d+)\n",
    "        _(?P<date>\\d+)\n",
    "        (?:_(?P<processing_date>\\d+))?\n",
    "        \\..*$\n",
    "    \"\"\"\n",
    "    is_image=True\n",
    "    \n",
    "    all_bands = [\"R\", \"G\", \"B\", \"NIR\"]    \n",
    "    rgb_bands = [\"R\", \"G\", \"B\"]       \n",
    "\n",
    "    \n",
    "NDVI=indices.AppendNDVI(index_nir=3, index_red=0)\n",
    "NDWI=indices.AppendNDWI(index_green=1, index_nir=3)\n",
    "indeces_seq=AugmentationSequential(NDVI,NDWI,data_keys=[\"image\"])\n",
    "\n",
    "naip_transforms=Compose([naip_preprocess,remove_bbox,])  # indeces_seq\n",
    "naip=naip_rd(imagery_data,chesapeake.crs,chesapeake.res,transforms=naip_transforms)\n",
    "\n",
    "dataset=chesapeake & naip"
   ]
  },
  {
   "cell_type": "code",
   "execution_count": 5,
   "id": "6cd63e71-c550-45eb-b808-3ab5b63840db",
   "metadata": {
    "tags": []
   },
   "outputs": [
    {
     "name": "stdout",
     "output_type": "stream",
     "text": [
      "torch.Size([1, 4, 256, 256])\n"
     ]
    },
    {
     "data": {
      "image/png": "[encoded data removed]",
      "text/plain": [
       "<Figure size 640x480 with 1 Axes>"
      ]
     },
     "metadata": {},
     "output_type": "display_data"
    }
   ],
   "source": [
    "sampler=RandomGeoSampler(dataset,size=256, length=10)\n",
    "dataloader=DataLoader(dataset, sampler=sampler, collate_fn=stack_samples)\n",
    "\n",
    "dataloader=iter(dataloader)\n",
    "batch=next(dataloader)\n",
    "print(batch['image'].shape)\n",
    "\n",
    "LC_color_dict={\n",
    "    0: (0, 0, 0, 0),\n",
    "    1: (0, 197, 255, 255),\n",
    "    2: (0, 168, 132, 255),\n",
    "    3: (38, 115, 0, 255),\n",
    "    4: (76, 230, 0, 255),\n",
    "    5: (163, 255, 115, 255),\n",
    "    6: (255, 170, 0, 255),\n",
    "    7: (255, 0, 0, 255),\n",
    "    8: (156, 156, 156, 255),\n",
    "    #9: (0, 0, 0, 255),\n",
    "    #10: (115, 115, 0, 255),\n",
    "    #11: (230, 230, 0, 255),\n",
    "    #12: (255, 255, 115, 255),\n",
    "    #13: (197, 0, 255, 255),\n",
    "    }\n",
    "\n",
    "cmap_LC, norm=matplotlib.colors.from_levels_and_colors(list(LC_color_dict.keys()),[[v/255 for v in i] for i in LC_color_dict.values()],extend='max')\n",
    "plt.imshow(np.squeeze(batch['mask']),cmap=cmap_LC);"
   ]
  },
  {
   "cell_type": "code",
   "execution_count": 6,
   "id": "f24feeac-573e-4675-951e-a32eb70d45c9",
   "metadata": {
    "tags": []
   },
   "outputs": [],
   "source": [
    "import tempfile\n",
    "root = os.path.join(tempfile.gettempdir(), \"naipCh\")\n",
    "\n",
    "datamodule=NAIPChesapeakeDataModule(\n",
    "    #root=r'E:\\data\\NAIP4seg\\DLoaded',\n",
    "    naip_root=imagery_data,\n",
    "    chesapeake_root=LC_data,\n",
    "    batch_size=64,\n",
    "    patch_size=256,\n",
    "    length=10,\n",
    "    num_workers=8,\n",
    "    naip_download=True,\n",
    "    chesapeake_download=True, #False,    \n",
    "    )\n",
    "\n",
    "aux_params=dict(\n",
    "    pooling='avg',             # one of 'avg', 'max'\n",
    "    dropout=0.5,               # dropout ratio, default is None\n",
    "    activation='sigmoid',      # activation function, default is None\n",
    "    classes=8,                 # define number of output labels\n",
    ")\n",
    "\n",
    "task=SemanticSegmentationTask(\n",
    "    model='unet', \n",
    "    backbone='resnet34',\n",
    "    weights='imagenet',\n",
    "    pretrained=True,\n",
    "    in_channels=6,\n",
    "    num_classes=8,\n",
    "    ignore_index=7,\n",
    "    loss='ce', # 'jaccard'\n",
    "    learning_rate=0.1,\n",
    "    learning_rate_schedule_patience=5,\n",
    "    ignore_zeros=True,\n",
    "    aux_params=aux_params,\n",
    "    )"
   ]
  },
  {
   "cell_type": "code",
   "execution_count": 7,
   "id": "94b3ae8c-d1c1-424f-a00d-ac38c4493e78",
   "metadata": {
    "tags": []
   },
   "outputs": [
    {
     "name": "stderr",
     "output_type": "stream",
     "text": [
      "GPU available: False, used: False\n",
      "TPU available: False, using: 0 TPU cores\n",
      "IPU available: False, using: 0 IPUs\n",
      "HPU available: False, using: 0 HPUs\n"
     ]
    }
   ],
   "source": [
    "accelerator = \"gpu\" if torch.cuda.is_available() else \"cpu\"\n",
    "\n",
    "checkpoint_callback=ModelCheckpoint(monitor=\"val_loss\", dirpath=data_dir, save_top_k=1, save_last=True) #,save_on_train_epoch_end=True\n",
    "early_stopping_callback=EarlyStopping(monitor=\"val_loss\", min_delta=0.00, patience=10)\n",
    "logger=TensorBoardLogger(save_dir=data_dir, name=\"tutorial_logs\")\n",
    "in_tests=\"PYTEST_CURRENT_TEST\" in os.environ\n",
    "\n",
    "trainer=Trainer(\n",
    "    callbacks=[checkpoint_callback,early_stopping_callback], \n",
    "    logger=logger,\n",
    "    default_root_dir=data_dir,\n",
    "    min_epochs=1,\n",
    "    max_epochs=300,\n",
    "    fast_dev_run=in_tests,\n",
    "    accelerator=accelerator,   \n",
    "    #limit_val_batches=500,\n",
    "    )"
   ]
  },
  {
   "cell_type": "code",
   "execution_count": 8,
   "id": "d766057f-c8e2-426a-84ce-2e388f32ae6d",
   "metadata": {
    "tags": []
   },
   "outputs": [
    {
     "name": "stdout",
     "output_type": "stream",
     "text": [
      "Downloading https://cicwebresources.blob.core.windows.net/chesapeakebaylandcover/BAYWIDE/Baywide_13Class_20132014.zip to E:\\data\\NAIP4seg_download\\LC\\Baywide_13Class_20132014.zip\n"
     ]
    },
    {
     "name": "stderr",
     "output_type": "stream",
     "text": [
      "  0%|          | 622592/10114191805 [00:13<61:26:29, 45723.48it/s]\n",
      "C:\\ProgramData\\anaconda3\\envs\\torchgeo310\\lib\\site-packages\\lightning\\pytorch\\trainer\\call.py:48: UserWarning: Detected KeyboardInterrupt, attempting graceful shutdown...\n",
      "  rank_zero_warn(\"Detected KeyboardInterrupt, attempting graceful shutdown...\")\n"
     ]
    }
   ],
   "source": [
    "ckpt_path=os.path.join(data_dir,'last.ckpt')\n",
    "if path.exists(ckpt_path):\n",
    "    print('ckpt file exists.')\n",
    "    trainer.fit(model=task,datamodule=datamodule,ckpt_path=ckpt_path)  \n",
    "else:\n",
    "    trainer.fit(model=task,datamodule=datamodule)"
   ]
  },
  {
   "cell_type": "code",
   "execution_count": null,
   "id": "bc3bee62-a934-4304-b4d2-c032492b8057",
   "metadata": {},
   "outputs": [],
   "source": [
    "https://cicwebresources.blob.core.windows.net/chesapeakebaylandcover/BAYWIDE/Baywide_13Class_20132014.zip "
   ]
  },
  {
   "cell_type": "code",
   "execution_count": null,
   "id": "50fee872-a5b2-40d5-a4af-1b60112c81e7",
   "metadata": {},
   "outputs": [],
   "source": []
  },
  {
   "cell_type": "code",
   "execution_count": null,
   "id": "f4c8bb9c-78b5-46dc-be0d-5ece035eacce",
   "metadata": {},
   "outputs": [],
   "source": []
  },
  {
   "cell_type": "code",
   "execution_count": null,
   "id": "d8d551d8-2db5-430f-9381-d282045c7386",
   "metadata": {},
   "outputs": [],
   "source": []
  },
  {
   "cell_type": "code",
   "execution_count": null,
   "id": "19e82504-f8fb-49be-b8c3-548a16c95d15",
   "metadata": {},
   "outputs": [],
   "source": []
  },
  {
   "cell_type": "code",
   "execution_count": 15,
   "id": "ff86b077-a2a3-4eb6-a7b9-2d70d297e66b",
   "metadata": {
    "tags": []
   },
   "outputs": [],
   "source": []
  },
  {
   "cell_type": "code",
   "execution_count": 16,
   "id": "c67be983-81d9-4714-af28-c3eb7bebff3f",
   "metadata": {
    "tags": []
   },
   "outputs": [
    {
     "data": {
      "text/plain": [
       "'C:\\\\Users\\\\richie\\\\AppData\\\\Local\\\\Temp'"
      ]
     },
     "execution_count": 16,
     "metadata": {},
     "output_type": "execute_result"
    }
   ],
   "source": [
    "tempfile.gettempdir()"
   ]
  },
  {
   "cell_type": "code",
   "execution_count": null,
   "id": "02a98aeb-410b-4de5-a821-26c6dc10d78e",
   "metadata": {},
   "outputs": [],
   "source": []
  }
 ],
 "metadata": {
  "kernelspec": {
   "display_name": "Python 3 (ipykernel)",
   "language": "python",
   "name": "python3"
  },
  "language_info": {
   "codemirror_mode": {
    "name": "ipython",
    "version": 3
   },
   "file_extension": ".py",
   "mimetype": "text/x-python",
   "name": "python",
   "nbconvert_exporter": "python",
   "pygments_lexer": "ipython3",
   "version": "3.10.12"
  }
 },
 "nbformat": 4,
 "nbformat_minor": 5
}
